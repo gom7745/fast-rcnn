{
 "cells": [
  {
   "cell_type": "code",
   "execution_count": 1,
   "metadata": {
    "collapsed": true
   },
   "outputs": [],
   "source": [
    "import caffe\n",
    "from caffe.proto import caffe_pb2\n",
    "from google.protobuf import text_format"
   ]
  },
  {
   "cell_type": "code",
   "execution_count": 10,
   "metadata": {
    "collapsed": true
   },
   "outputs": [],
   "source": [
    "class ReadProto:\n",
    "    def __init__(self, filepath):\n",
    "        self.parser_object = self._readProtoSolverFile(filepath)\n",
    "    def _readProtoSolverFile(self, filepath):\n",
    "        solver_config = caffe.proto.caffe_pb2.NetParameter()\n",
    "        #TODO how to read proto file?\n",
    "        return self._readProtoFile(filepath, solver_config)\n",
    "    #enddef\n",
    "\n",
    "    def _readProtoFile(self, filepath, parser_object):\n",
    "        file = open(filepath, \"r\")\n",
    "        if not file:\n",
    "            raise self.ProcessException(\"ERROR (\" + filepath + \")!\")\n",
    "        text_format.Merge(str(file.read()), parser_object)\n",
    "        file.close()\n",
    "        return parser_object\n",
    "    #enddef"
   ]
  },
  {
   "cell_type": "code",
   "execution_count": 3,
   "metadata": {
    "collapsed": true
   },
   "outputs": [],
   "source": [
    "filepath = \"/home/gom7745/MMAI/final/fast-rcnn/models/CaffeNet/train.prototxt\""
   ]
  },
  {
   "cell_type": "code",
   "execution_count": 11,
   "metadata": {
    "collapsed": false
   },
   "outputs": [],
   "source": [
    "readProto = ReadProto(filepath)"
   ]
  },
  {
   "cell_type": "code",
   "execution_count": 12,
   "metadata": {
    "collapsed": false
   },
   "outputs": [
    {
     "name": "stdout",
     "output_type": "stream",
     "text": [
      "name: \"data\"\n",
      "type: \"Python\"\n",
      "top: \"data\"\n",
      "top: \"rois\"\n",
      "top: \"labels\"\n",
      "top: \"bbox_targets\"\n",
      "top: \"bbox_loss_weights\"\n",
      "python_param {\n",
      "  module: \"roi_data_layer.layer\"\n",
      "  layer: \"RoIDataLayer\"\n",
      "  param_str: \"\\'num_classes\\': 2\"\n",
      "}\n",
      "\n"
     ]
    }
   ],
   "source": [
    "types = 'AbsVal, Accuracy, ArgMax, BNLL, Concat, ContrastiveLoss, Convolution, Data, Deconvolution, Dropout, DummyData, Eltwise, EuclideanLoss, Exp, Flatten, HDF5Data, HDF5Output, HingeLoss, Im2col, ImageData, InfogainLoss, InnerProduct, LRN, MVN, MemoryData, MultinomialLogisticLoss, PReLU, Pooling, Power, ROIPooling, ReLU, Sigmoid, SigmoidCrossEntropyLoss, Silence, Slice, SmoothL1Loss, Softmax, SoftmaxWithLoss, Split, TanH, Threshold, WindowData'\n",
    "types = types.split(', ')\n",
    "for LP in readProto.parser_object.layer:\n",
    "    if LP.type not in types:\n",
    "        print LP"
   ]
  },
  {
   "cell_type": "code",
   "execution_count": null,
   "metadata": {
    "collapsed": true
   },
   "outputs": [],
   "source": []
  }
 ],
 "metadata": {
  "kernelspec": {
   "display_name": "Python 2",
   "language": "python",
   "name": "python2"
  },
  "language_info": {
   "codemirror_mode": {
    "name": "ipython",
    "version": 2
   },
   "file_extension": ".py",
   "mimetype": "text/x-python",
   "name": "python",
   "nbconvert_exporter": "python",
   "pygments_lexer": "ipython2",
   "version": "2.7.6"
  }
 },
 "nbformat": 4,
 "nbformat_minor": 0
}
